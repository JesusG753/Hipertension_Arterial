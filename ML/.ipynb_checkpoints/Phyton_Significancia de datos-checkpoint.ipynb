{
 "cells": [
  {
   "cell_type": "code",
   "execution_count": 1,
   "id": "e1f17456-1faa-4792-96dc-4e57bfd30dff",
   "metadata": {},
   "outputs": [
    {
     "name": "stdout",
     "output_type": "stream",
     "text": [
      "Importancia de características:\n",
      "                             Feature  Importance\n",
      "32                     masa_corporal    0.302344\n",
      "24                    medida_cintura    0.180821\n",
      "30                  tension_arterial    0.154276\n",
      "22                              peso    0.082916\n",
      "33                   actividad_total    0.047224\n",
      "23                          estatura    0.027910\n",
      "31                       sueno_horas    0.027562\n",
      "1                               edad    0.022174\n",
      "0                               sexo    0.021325\n",
      "11                    valor_insulina    0.009231\n",
      "13        resultado_glucosa_promedio    0.009227\n",
      "12               valor_trigliceridos    0.008905\n",
      "2          concentracion_hemoglobina    0.007903\n",
      "7               valor_colesterol_ldl    0.007791\n",
      "10                 resultado_glucosa    0.007617\n",
      "14     valor_hemoglobina_glucosilada    0.007280\n",
      "8             valor_colesterol_total    0.007264\n",
      "5                     valor_albumina    0.007132\n",
      "16                      valor_folato    0.006891\n",
      "9                     valor_creatina    0.006828\n",
      "20              valor_vitamina_bdoce    0.006202\n",
      "6               valor_colesterol_hdl    0.006143\n",
      "3               temperatura_ambiente    0.005709\n",
      "17                valor_homocisteina    0.005554\n",
      "18          valor_proteinac_reactiva    0.005202\n",
      "4                  valor_acido_urico    0.005069\n",
      "19                valor_transferrina    0.004739\n",
      "15                   valor_ferritina    0.004449\n",
      "21                  valor_vitamina_d    0.004312\n",
      "25              segundamedicion_peso    0.000000\n",
      "26          segundamedicion_estatura    0.000000\n",
      "27           distancia_rodilla_talon    0.000000\n",
      "28  circunferencia_de_la_pantorrilla    0.000000\n",
      "29           segundamedicion_cintura    0.000000\n"
     ]
    }
   ],
   "source": [
    "import pandas as pd\n",
    "import numpy as np\n",
    "from sklearn.ensemble import RandomForestClassifier\n",
    "from sklearn.model_selection import train_test_split\n",
    "\n",
    "# Ejemplo de datos (reemplaza con tu dataset)\n",
    "balanced_data = pd.read_csv('Hipertension_Arterial_Mexico_balanced.csv')\n",
    "y = balanced_data['riesgo_hipertension']\n",
    "x = balanced_data.drop('riesgo_hipertension', axis=1)\n",
    "\n",
    "# Dividir y entrenar el modelo\n",
    "x_train, x_test, y_train, y_test = train_test_split(x, y, test_size=0.3, random_state=42)\n",
    "Peso_randomforest = RandomForestClassifier(n_estimators=150, max_depth=20, random_state=42)\n",
    "Peso_randomforest.fit(x_train, y_train)\n",
    "\n",
    "# Obtener y mostrar la importancia de las características\n",
    "importances = Peso_randomforest.feature_importances_\n",
    "feature_names = x.columns\n",
    "feature_importance = pd.DataFrame({'Feature': feature_names, 'Importance': importances})\n",
    "print(\"Importancia de características:\")\n",
    "print(feature_importance.sort_values(by='Importance', ascending=False))"
   ]
  },
  {
   "cell_type": "code",
   "execution_count": null,
   "id": "b6b9965d-817a-491d-b749-79cf9be0ee94",
   "metadata": {},
   "outputs": [],
   "source": []
  }
 ],
 "metadata": {
  "kernelspec": {
   "display_name": "Python [conda env:base] *",
   "language": "python",
   "name": "conda-base-py"
  },
  "language_info": {
   "codemirror_mode": {
    "name": "ipython",
    "version": 3
   },
   "file_extension": ".py",
   "mimetype": "text/x-python",
   "name": "python",
   "nbconvert_exporter": "python",
   "pygments_lexer": "ipython3",
   "version": "3.12.7"
  }
 },
 "nbformat": 4,
 "nbformat_minor": 5
}
